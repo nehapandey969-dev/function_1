{
  "nbformat": 4,
  "nbformat_minor": 0,
  "metadata": {
    "colab": {
      "provenance": []
    },
    "kernelspec": {
      "name": "python3",
      "display_name": "Python 3"
    },
    "language_info": {
      "name": "python"
    }
  },
  "cells": [
    {
      "cell_type": "code",
      "execution_count": 2,
      "metadata": {
        "colab": {
          "base_uri": "https://localhost:8080/"
        },
        "id": "74f17dazhd6-",
        "outputId": "6db7ffea-a3e5-4ed3-d7be-a2beeccdb514"
      },
      "outputs": [
        {
          "output_type": "stream",
          "name": "stdout",
          "text": [
            "12\n"
          ]
        }
      ],
      "source": [
        "# Q1. Function: Sum of even numbers from a list\n",
        "def sum_even(nums):\n",
        "    return sum(x for x in nums if x % 2 == 0)\n",
        "\n",
        "print(sum_even([1,2,3,4,5,6]))\n"
      ]
    },
    {
      "cell_type": "code",
      "source": [
        "# Q2. Reverse a string\n",
        "def reverse_str(s):\n",
        "    return s[::-1]\n",
        "\n",
        "print(reverse_str(\"Neha\"))\n"
      ],
      "metadata": {
        "colab": {
          "base_uri": "https://localhost:8080/"
        },
        "id": "vf_PTNyXiwhn",
        "outputId": "1d11b5ab-adf1-47e4-ba8e-8a6d61732a9c"
      },
      "execution_count": 3,
      "outputs": [
        {
          "output_type": "stream",
          "name": "stdout",
          "text": [
            "aheN\n"
          ]
        }
      ]
    },
    {
      "cell_type": "code",
      "source": [
        "# Q3. Squares of numbers in a list\n",
        "def squares(nums):\n",
        "    return [x**2 for x in nums]\n",
        "\n",
        "print(squares([1,2,3,4]))\n"
      ],
      "metadata": {
        "colab": {
          "base_uri": "https://localhost:8080/"
        },
        "id": "9mf02Oxni36n",
        "outputId": "b9cdec16-bcec-4306-bc28-7b9c1c534373"
      },
      "execution_count": 4,
      "outputs": [
        {
          "output_type": "stream",
          "name": "stdout",
          "text": [
            "[1, 4, 9, 16]\n"
          ]
        }
      ]
    },
    {
      "cell_type": "code",
      "source": [
        "# Q4. Check prime numbers (1–200)\n",
        "def is_prime(n):\n",
        "    if n <= 1:\n",
        "        return False\n",
        "    for i in range(2, int(n**0.5)+1):\n",
        "        if n % i == 0:\n",
        "            return False\n",
        "    return True\n",
        "\n",
        "primes = [x for x in range(1,201) if is_prime(x)]\n",
        "print(primes)\n"
      ],
      "metadata": {
        "colab": {
          "base_uri": "https://localhost:8080/"
        },
        "id": "rZ1RxaOzjD44",
        "outputId": "e6dca264-db7b-4cda-c39c-7985de6a4f2e"
      },
      "execution_count": 5,
      "outputs": [
        {
          "output_type": "stream",
          "name": "stdout",
          "text": [
            "[2, 3, 5, 7, 11, 13, 17, 19, 23, 29, 31, 37, 41, 43, 47, 53, 59, 61, 67, 71, 73, 79, 83, 89, 97, 101, 103, 107, 109, 113, 127, 131, 137, 139, 149, 151, 157, 163, 167, 173, 179, 181, 191, 193, 197, 199]\n"
          ]
        }
      ]
    },
    {
      "cell_type": "code",
      "source": [
        "# Q5. Iterator class for Fibonacci sequence\n",
        "class Fibonacci:\n",
        "    def __init__(self, n):\n",
        "        self.n = n\n",
        "        self.a, self.b, self.count = 0, 1, 0\n",
        "\n",
        "    def __iter__(self):\n",
        "        return self\n",
        "\n",
        "    def __next__(self):\n",
        "        if self.count < self.n:\n",
        "            value = self.a\n",
        "            self.a, self.b = self.b, self.a + self.b\n",
        "            self.count += 1\n",
        "            return value\n",
        "        else:\n",
        "            raise StopIteration\n",
        "\n",
        "fib = Fibonacci(10)\n",
        "print(list(fib))\n"
      ],
      "metadata": {
        "colab": {
          "base_uri": "https://localhost:8080/"
        },
        "id": "_GAy2x6ajJ0E",
        "outputId": "13ac6668-1e48-42f3-de97-883936c115d1"
      },
      "execution_count": 6,
      "outputs": [
        {
          "output_type": "stream",
          "name": "stdout",
          "text": [
            "[0, 1, 1, 2, 3, 5, 8, 13, 21, 34]\n"
          ]
        }
      ]
    },
    {
      "cell_type": "code",
      "source": [
        "# Q6. Generator: Powers of 2\n",
        "def powers_of_two(exp):\n",
        "    for i in range(exp+1):\n",
        "        yield 2**i\n",
        "\n",
        "print(list(powers_of_two(5)))\n"
      ],
      "metadata": {
        "colab": {
          "base_uri": "https://localhost:8080/"
        },
        "id": "Tn2efvnUjPiR",
        "outputId": "b390ee10-1f38-4435-b122-0540f655377d"
      },
      "execution_count": 7,
      "outputs": [
        {
          "output_type": "stream",
          "name": "stdout",
          "text": [
            "[1, 2, 4, 8, 16, 32]\n"
          ]
        }
      ]
    },
    {
      "cell_type": "code",
      "source": [
        "# Q7. Generator: Read file line by line\n",
        "def read_file(filename):\n",
        "    with open(filename, 'r') as f:\n",
        "        for line in f:\n",
        "            yield line.strip()\n",
        "\n",
        "\n"
      ],
      "metadata": {
        "id": "Sz4CNoMijWhO"
      },
      "execution_count": 11,
      "outputs": []
    },
    {
      "cell_type": "code",
      "source": [
        "# Q8. Sort list of tuples by second element using lambda\n",
        "data = [(1,3), (2,1), (5,2)]\n",
        "sorted_data = sorted(data, key=lambda x: x[1])\n",
        "print(sorted_data)  # [(2,1), (5,2), (1,3)]\n"
      ],
      "metadata": {
        "colab": {
          "base_uri": "https://localhost:8080/"
        },
        "id": "hDo03eGNjgYr",
        "outputId": "eb23a0e7-5cd3-489f-923a-ce935447d32f"
      },
      "execution_count": 12,
      "outputs": [
        {
          "output_type": "stream",
          "name": "stdout",
          "text": [
            "[(2, 1), (5, 2), (1, 3)]\n"
          ]
        }
      ]
    },
    {
      "cell_type": "code",
      "source": [
        "# Q9. Convert Celsius → Fahrenheit using map()\n",
        "celsius = [0, 20, 37, 100]\n",
        "fahrenheit = list(map(lambda c: (c*9/5) + 32, celsius))\n",
        "print(fahrenheit)\n"
      ],
      "metadata": {
        "colab": {
          "base_uri": "https://localhost:8080/"
        },
        "id": "HLM2nsB4jlQF",
        "outputId": "95dc3cfb-c4c9-4948-e8d0-0b7325cbebe9"
      },
      "execution_count": 13,
      "outputs": [
        {
          "output_type": "stream",
          "name": "stdout",
          "text": [
            "[32.0, 68.0, 98.6, 212.0]\n"
          ]
        }
      ]
    },
    {
      "cell_type": "code",
      "source": [
        "# Q10. Remove vowels from a string using filter()\n",
        "def remove_vowels(s):\n",
        "    return ''.join(filter(lambda x: x.lower() not in \"aeiou\", s))\n",
        "\n",
        "print(remove_vowels(\"Data Analytics\"))\n"
      ],
      "metadata": {
        "colab": {
          "base_uri": "https://localhost:8080/"
        },
        "id": "5VXZTqyvjtZu",
        "outputId": "775951e5-bbf8-4f45-a9d7-d6a137d311cc"
      },
      "execution_count": 14,
      "outputs": [
        {
          "output_type": "stream",
          "name": "stdout",
          "text": [
            "Dt nlytcs\n"
          ]
        }
      ]
    },
    {
      "cell_type": "code",
      "source": [
        "# Q11. Book shop accounting routine\n",
        "# Each sublist format: [order_no, item_price, quantity]\n",
        "orders = [\n",
        "    [34587, 4.25, 10],\n",
        "    [98762, 1.99, 5],\n",
        "    [77226, 15.99, 3],\n",
        "    [88112, 24.99, 1]\n",
        "]\n",
        "\n",
        "result = list(map(lambda x: (x[0], x[1]*x[2] if x[1]*x[2] >= 100 else x[1]*x[2]+10), orders))\n",
        "print(result)\n",
        "\n"
      ],
      "metadata": {
        "colab": {
          "base_uri": "https://localhost:8080/"
        },
        "id": "dThOoXbtj3Go",
        "outputId": "e68a1535-9be6-4241-c902-3f3a789b42b3"
      },
      "execution_count": 15,
      "outputs": [
        {
          "output_type": "stream",
          "name": "stdout",
          "text": [
            "[(34587, 52.5), (98762, 19.95), (77226, 57.97), (88112, 34.989999999999995)]\n"
          ]
        }
      ]
    },
    {
      "cell_type": "markdown",
      "source": [
        "1.  1. What is the difference between a function and a method in Python?\n",
        "\n",
        "Function: Block of code that performs a task, defined using def, can exist independently.\n",
        "\n",
        "Method: A function associated with an object (called on objects).\n",
        "\n",
        "```\n",
        "# This is formatted as code\n",
        "```\n",
        "\n"
      ],
      "metadata": {
        "id": "Pg5l56dakJe4"
      }
    },
    {
      "cell_type": "code",
      "source": [
        "def greet():   # function\n",
        "    return \"Hello\"\n",
        "\n",
        "s = \"neha\"\n",
        "print(s.upper())  # upper() is a method of string object\n"
      ],
      "metadata": {
        "id": "S7mHubpPkWHq"
      },
      "execution_count": null,
      "outputs": []
    },
    {
      "cell_type": "markdown",
      "source": [
        "2.  2. Explain the concept of function arguments and parameters in Python?\n",
        "\n",
        "Parameter: Variable in function definition.\n",
        "\n",
        "Argument: Actual value passed when calling the function.\n",
        "🔹 Example:"
      ],
      "metadata": {
        "id": "IuxU4Sojkb1i"
      }
    },
    {
      "cell_type": "code",
      "source": [
        "def add(x, y):  # x, y = parameters\n",
        "    return x + y\n",
        "\n",
        "print(add(5, 3))  # 5, 3 = arguments\n"
      ],
      "metadata": {
        "id": "FmZC4TMrkfJA"
      },
      "execution_count": null,
      "outputs": []
    },
    {
      "cell_type": "markdown",
      "source": [
        "3. 3. What are the different ways to define and call a function in Python?\n",
        "\n",
        "Regular def function\n",
        "\n",
        "Lambda function\n",
        "\n",
        "Using *args, **kwargs\n",
        "🔹 Example"
      ],
      "metadata": {
        "id": "YHrZCBohkixv"
      }
    },
    {
      "cell_type": "code",
      "source": [
        "def greet(name=\"Guest\"):  # default argument\n",
        "    return \"Hello \" + name\n",
        "\n",
        "print(greet(\"Neha\"))\n",
        "print(greet())\n"
      ],
      "metadata": {
        "id": "PwPvTmP-klcy"
      },
      "execution_count": null,
      "outputs": []
    },
    {
      "cell_type": "markdown",
      "source": [
        "4. 4. What is the purpose of the `return` statement in a Python function?\n",
        "It sends back a value from a function. Without it, function returns None.\n",
        "🔹 Example:"
      ],
      "metadata": {
        "id": "RAQ2HNVLksvI"
      }
    },
    {
      "cell_type": "code",
      "source": [
        "def square(x):\n",
        "    return x*x\n",
        "print(square(4))  # 16\n"
      ],
      "metadata": {
        "id": "yc-fC8wwkvb-"
      },
      "execution_count": null,
      "outputs": []
    },
    {
      "cell_type": "markdown",
      "source": [
        "5.  5. What are iterators in Python and how do they differ from iterables?\n",
        "\n",
        "Iterable: Any object you can loop over (list, tuple, str).\n",
        "\n",
        "Iterator: Object created using iter(), generates elements one by one using next().\n",
        "🔹 Example:"
      ],
      "metadata": {
        "id": "JDy9qlG7kye7"
      }
    },
    {
      "cell_type": "code",
      "source": [
        "nums = [1,2,3]\n",
        "it = iter(nums)   # iterator\n",
        "print(next(it))   # 1\n"
      ],
      "metadata": {
        "id": "4YaokWFRk1xB"
      },
      "execution_count": null,
      "outputs": []
    },
    {
      "cell_type": "markdown",
      "source": [
        "6. Explain the concept of generators in Python and how they are defined?\n",
        "🔹 Example:"
      ],
      "metadata": {
        "id": "eBINnXzdk7db"
      }
    },
    {
      "cell_type": "code",
      "source": [
        "def gen():\n",
        "    yield 1\n",
        "    yield 2\n",
        "print(list(gen()))  # [1,2]\n"
      ],
      "metadata": {
        "id": "VxDTWD1Fk9yS"
      },
      "execution_count": null,
      "outputs": []
    },
    {
      "cell_type": "markdown",
      "source": [
        "7.What are the advantages of using generators over regular function?\n",
        "\n",
        "Memory efficient (no need to store all values)\n",
        "\n",
        "Lazy evaluation (generate on demand)\n",
        "\n",
        "Useful for large data streams\n",
        "\n",
        "```\n",
        "# This is formatted as code\n",
        "```\n",
        "\n"
      ],
      "metadata": {
        "id": "nlHNPWXdlBEd"
      }
    },
    {
      "cell_type": "markdown",
      "source": [
        "8. What is a lambda function in Python and when is it typically used?\n",
        "Anonymous (one-line) functions using lambda.\n",
        "🔹 Example:"
      ],
      "metadata": {
        "id": "0duNbKFUlF9p"
      }
    },
    {
      "cell_type": "code",
      "source": [
        "square = lambda x: x*x\n",
        "print(square(5))  # 25\n"
      ],
      "metadata": {
        "id": "PVEYeBlxlIa2"
      },
      "execution_count": null,
      "outputs": []
    },
    {
      "cell_type": "markdown",
      "source": [
        "9.Explain the purpose and usage of the `map()` function in Python?\n",
        "Applies a function to all items of an iterable.\n",
        "🔹 Example:\n",
        "\n",
        "> Add blockquote\n",
        "\n"
      ],
      "metadata": {
        "id": "56_V8EbglLxR"
      }
    },
    {
      "cell_type": "code",
      "source": [
        "nums = [1,2,3]\n",
        "print(list(map(lambda x: x*2, nums)))  # [2,4,6]\n"
      ],
      "metadata": {
        "id": "1WCHeiZalPGq"
      },
      "execution_count": null,
      "outputs": []
    },
    {
      "cell_type": "markdown",
      "source": [
        "10. What is the difference between `map()`, `reduce()`, and `filter()` functions in Python?\n",
        "\n",
        "\n",
        "map() → applies function to each element.\n",
        "\n",
        "filter() → keeps elements that satisfy condition.\n",
        "\n",
        "reduce() → reduces list to single value (needs functools.reduce).\n",
        "🔹 Example:"
      ],
      "metadata": {
        "id": "hB3IHehflT4a"
      }
    },
    {
      "cell_type": "code",
      "source": [
        "from functools import reduce\n",
        "nums = [1,2,3,4]\n",
        "print(list(map(lambda x: x*2, nums)))   # [2,4,6,8]\n",
        "print(list(filter(lambda x: x%2==0, nums)))  # [2,4]\n",
        "print(reduce(lambda a,b: a+b, nums))   # 10\n"
      ],
      "metadata": {
        "id": "LlDkBHRalW6a"
      },
      "execution_count": null,
      "outputs": []
    },
    {
      "cell_type": "markdown",
      "source": [
        "11.Using pen & Paper write the internal mechanism for sum operation using  reduce function on this given list:[47,11,42,13]\n",
        "List = [47,11,42,13]\n",
        "Stepwise:\n",
        "\n",
        "Step1: 47+11 = 58\n",
        "\n",
        "Step2: 58+42 = 100\n",
        "\n",
        "Step3: 100+13 = 113\n",
        "\n",
        "So, result = 113"
      ],
      "metadata": {
        "id": "NVJx4E7zlbfz"
      }
    }
  ]
}